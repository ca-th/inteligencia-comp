{
  "cells": [
    {
      "cell_type": "markdown",
      "metadata": {
        "id": "view-in-github",
        "colab_type": "text"
      },
      "source": [
        "<a href=\"https://colab.research.google.com/github/ca-th/inteligencia-comp/blob/main/nbs/tutorials/tutorials.proteins.amp.ipynb\" target=\"_parent\"><img src=\"https://colab.research.google.com/assets/colab-badge.svg\" alt=\"Open In Colab\"/></a>"
      ]
    },
    {
      "cell_type": "code",
      "execution_count": 11,
      "metadata": {
        "colab": {
          "base_uri": "https://localhost:8080/"
        },
        "id": "Z5vyslp7w0fq",
        "outputId": "d414d8ee-8103-4c73-84d3-3a69190b31da"
      },
      "outputs": [
        {
          "output_type": "stream",
          "name": "stdout",
          "text": [
            "Requirement already satisfied: mrl-pypi==0.1.5 in /usr/local/lib/python3.11/dist-packages (0.1.5)\n",
            "Requirement already satisfied: pandas in /usr/local/lib/python3.11/dist-packages (from mrl-pypi==0.1.5) (2.2.2)\n",
            "Requirement already satisfied: numpy in /usr/local/lib/python3.11/dist-packages (from mrl-pypi==0.1.5) (2.0.2)\n",
            "Requirement already satisfied: matplotlib in /usr/local/lib/python3.11/dist-packages (from mrl-pypi==0.1.5) (3.10.0)\n",
            "Requirement already satisfied: scipy in /usr/local/lib/python3.11/dist-packages (from mrl-pypi==0.1.5) (1.14.1)\n",
            "Requirement already satisfied: fastprogress in /usr/local/lib/python3.11/dist-packages (from mrl-pypi==0.1.5) (1.0.3)\n",
            "Requirement already satisfied: selfies>=2.0.0 in /usr/local/lib/python3.11/dist-packages (from mrl-pypi==0.1.5) (2.2.0)\n",
            "Requirement already satisfied: scikit-learn in /usr/local/lib/python3.11/dist-packages (from mrl-pypi==0.1.5) (1.6.1)\n",
            "Requirement already satisfied: networkx in /usr/local/lib/python3.11/dist-packages (from mrl-pypi==0.1.5) (3.4.2)\n",
            "Requirement already satisfied: requests in /usr/local/lib/python3.11/dist-packages (from mrl-pypi==0.1.5) (2.32.3)\n",
            "Requirement already satisfied: numba in /usr/local/lib/python3.11/dist-packages (from mrl-pypi==0.1.5) (0.60.0)\n",
            "Requirement already satisfied: rdkit-pypi in /usr/local/lib/python3.11/dist-packages (from mrl-pypi==0.1.5) (2022.9.5)\n",
            "Requirement already satisfied: torch>=1.8.0 in /usr/local/lib/python3.11/dist-packages (from mrl-pypi==0.1.5) (2.6.0+cu124)\n",
            "Requirement already satisfied: filelock in /usr/local/lib/python3.11/dist-packages (from torch>=1.8.0->mrl-pypi==0.1.5) (3.18.0)\n",
            "Requirement already satisfied: typing-extensions>=4.10.0 in /usr/local/lib/python3.11/dist-packages (from torch>=1.8.0->mrl-pypi==0.1.5) (4.13.2)\n",
            "Requirement already satisfied: jinja2 in /usr/local/lib/python3.11/dist-packages (from torch>=1.8.0->mrl-pypi==0.1.5) (3.1.6)\n",
            "Requirement already satisfied: fsspec in /usr/local/lib/python3.11/dist-packages (from torch>=1.8.0->mrl-pypi==0.1.5) (2025.3.2)\n",
            "Requirement already satisfied: nvidia-cuda-nvrtc-cu12==12.4.127 in /usr/local/lib/python3.11/dist-packages (from torch>=1.8.0->mrl-pypi==0.1.5) (12.4.127)\n",
            "Requirement already satisfied: nvidia-cuda-runtime-cu12==12.4.127 in /usr/local/lib/python3.11/dist-packages (from torch>=1.8.0->mrl-pypi==0.1.5) (12.4.127)\n",
            "Requirement already satisfied: nvidia-cuda-cupti-cu12==12.4.127 in /usr/local/lib/python3.11/dist-packages (from torch>=1.8.0->mrl-pypi==0.1.5) (12.4.127)\n",
            "Requirement already satisfied: nvidia-cudnn-cu12==9.1.0.70 in /usr/local/lib/python3.11/dist-packages (from torch>=1.8.0->mrl-pypi==0.1.5) (9.1.0.70)\n",
            "Requirement already satisfied: nvidia-cublas-cu12==12.4.5.8 in /usr/local/lib/python3.11/dist-packages (from torch>=1.8.0->mrl-pypi==0.1.5) (12.4.5.8)\n",
            "Requirement already satisfied: nvidia-cufft-cu12==11.2.1.3 in /usr/local/lib/python3.11/dist-packages (from torch>=1.8.0->mrl-pypi==0.1.5) (11.2.1.3)\n",
            "Requirement already satisfied: nvidia-curand-cu12==10.3.5.147 in /usr/local/lib/python3.11/dist-packages (from torch>=1.8.0->mrl-pypi==0.1.5) (10.3.5.147)\n",
            "Requirement already satisfied: nvidia-cusolver-cu12==11.6.1.9 in /usr/local/lib/python3.11/dist-packages (from torch>=1.8.0->mrl-pypi==0.1.5) (11.6.1.9)\n",
            "Requirement already satisfied: nvidia-cusparse-cu12==12.3.1.170 in /usr/local/lib/python3.11/dist-packages (from torch>=1.8.0->mrl-pypi==0.1.5) (12.3.1.170)\n",
            "Requirement already satisfied: nvidia-cusparselt-cu12==0.6.2 in /usr/local/lib/python3.11/dist-packages (from torch>=1.8.0->mrl-pypi==0.1.5) (0.6.2)\n",
            "Requirement already satisfied: nvidia-nccl-cu12==2.21.5 in /usr/local/lib/python3.11/dist-packages (from torch>=1.8.0->mrl-pypi==0.1.5) (2.21.5)\n",
            "Requirement already satisfied: nvidia-nvtx-cu12==12.4.127 in /usr/local/lib/python3.11/dist-packages (from torch>=1.8.0->mrl-pypi==0.1.5) (12.4.127)\n",
            "Requirement already satisfied: nvidia-nvjitlink-cu12==12.4.127 in /usr/local/lib/python3.11/dist-packages (from torch>=1.8.0->mrl-pypi==0.1.5) (12.4.127)\n",
            "Requirement already satisfied: triton==3.2.0 in /usr/local/lib/python3.11/dist-packages (from torch>=1.8.0->mrl-pypi==0.1.5) (3.2.0)\n",
            "Requirement already satisfied: sympy==1.13.1 in /usr/local/lib/python3.11/dist-packages (from torch>=1.8.0->mrl-pypi==0.1.5) (1.13.1)\n",
            "Requirement already satisfied: mpmath<1.4,>=1.1.0 in /usr/local/lib/python3.11/dist-packages (from sympy==1.13.1->torch>=1.8.0->mrl-pypi==0.1.5) (1.3.0)\n",
            "Requirement already satisfied: contourpy>=1.0.1 in /usr/local/lib/python3.11/dist-packages (from matplotlib->mrl-pypi==0.1.5) (1.3.2)\n",
            "Requirement already satisfied: cycler>=0.10 in /usr/local/lib/python3.11/dist-packages (from matplotlib->mrl-pypi==0.1.5) (0.12.1)\n",
            "Requirement already satisfied: fonttools>=4.22.0 in /usr/local/lib/python3.11/dist-packages (from matplotlib->mrl-pypi==0.1.5) (4.57.0)\n",
            "Requirement already satisfied: kiwisolver>=1.3.1 in /usr/local/lib/python3.11/dist-packages (from matplotlib->mrl-pypi==0.1.5) (1.4.8)\n",
            "Requirement already satisfied: packaging>=20.0 in /usr/local/lib/python3.11/dist-packages (from matplotlib->mrl-pypi==0.1.5) (24.2)\n",
            "Requirement already satisfied: pillow>=8 in /usr/local/lib/python3.11/dist-packages (from matplotlib->mrl-pypi==0.1.5) (11.1.0)\n",
            "Requirement already satisfied: pyparsing>=2.3.1 in /usr/local/lib/python3.11/dist-packages (from matplotlib->mrl-pypi==0.1.5) (3.2.3)\n",
            "Requirement already satisfied: python-dateutil>=2.7 in /usr/local/lib/python3.11/dist-packages (from matplotlib->mrl-pypi==0.1.5) (2.8.2)\n",
            "Requirement already satisfied: llvmlite<0.44,>=0.43.0dev0 in /usr/local/lib/python3.11/dist-packages (from numba->mrl-pypi==0.1.5) (0.43.0)\n",
            "Requirement already satisfied: pytz>=2020.1 in /usr/local/lib/python3.11/dist-packages (from pandas->mrl-pypi==0.1.5) (2025.2)\n",
            "Requirement already satisfied: tzdata>=2022.7 in /usr/local/lib/python3.11/dist-packages (from pandas->mrl-pypi==0.1.5) (2025.2)\n",
            "Requirement already satisfied: charset-normalizer<4,>=2 in /usr/local/lib/python3.11/dist-packages (from requests->mrl-pypi==0.1.5) (3.4.1)\n",
            "Requirement already satisfied: idna<4,>=2.5 in /usr/local/lib/python3.11/dist-packages (from requests->mrl-pypi==0.1.5) (3.10)\n",
            "Requirement already satisfied: urllib3<3,>=1.21.1 in /usr/local/lib/python3.11/dist-packages (from requests->mrl-pypi==0.1.5) (2.3.0)\n",
            "Requirement already satisfied: certifi>=2017.4.17 in /usr/local/lib/python3.11/dist-packages (from requests->mrl-pypi==0.1.5) (2025.1.31)\n",
            "Requirement already satisfied: joblib>=1.2.0 in /usr/local/lib/python3.11/dist-packages (from scikit-learn->mrl-pypi==0.1.5) (1.4.2)\n",
            "Requirement already satisfied: threadpoolctl>=3.1.0 in /usr/local/lib/python3.11/dist-packages (from scikit-learn->mrl-pypi==0.1.5) (3.6.0)\n",
            "Requirement already satisfied: six>=1.5 in /usr/local/lib/python3.11/dist-packages (from python-dateutil>=2.7->matplotlib->mrl-pypi==0.1.5) (1.17.0)\n",
            "Requirement already satisfied: MarkupSafe>=2.0 in /usr/local/lib/python3.11/dist-packages (from jinja2->torch>=1.8.0->mrl-pypi==0.1.5) (3.0.2)\n"
          ]
        }
      ],
      "source": [
        "# hide\n",
        "# all_tutorial\n",
        "! [ -e /content ] && pip install --upgrade mrl-pypi==0.1.5\n",
        "  # upgrade mrl on colab"
      ]
    },
    {
      "cell_type": "markdown",
      "metadata": {
        "id": "MftaU8_bw0fv"
      },
      "source": [
        "# Antimicrobial Peptide Design\n",
        "\n",
        ">Using MRL to design antimicrobial peptides"
      ]
    },
    {
      "cell_type": "markdown",
      "metadata": {
        "id": "dD_1Vrwtw0fx"
      },
      "source": [
        "## Antimicrobial Peptide Design\n",
        "\n",
        "This tutorial runs an end to end workflow for designing antimicrobial peptides using MRL.\n",
        "\n",
        "Antimicrobial peptides are a family of peptides that kill bacteria. These peptides are of interest for antibiotics and anticancer therapeutics"
      ]
    },
    {
      "cell_type": "markdown",
      "metadata": {
        "id": "Y_fktnBVw0fy"
      },
      "source": [
        "## Performance Notes\n",
        "\n",
        "The workflow in this notebook is more CPU-constrained than GPU-constrained due to the need to evaluate samples on CPU. If you have a multi-core machine, it is recommended that you uncomment and run the `set_global_pool` cells in the notebook. This will trigger the use of multiprocessing, which will result in 2-4x speedups.\n",
        "\n",
        "This notebook may run slow on Collab due to CPU limitations.\n",
        "\n",
        "If running on Collab, remember to change the runtime to GPU"
      ]
    },
    {
      "cell_type": "code",
      "execution_count": 12,
      "metadata": {
        "id": "20OdNWB-w0fz"
      },
      "outputs": [],
      "source": [
        "import sys\n",
        "sys.path.append('..')\n",
        "\n",
        "from mrl.imports import *\n",
        "from mrl.core import *\n",
        "from mrl.chem import *\n",
        "from mrl.templates.all import *\n",
        "\n",
        "from mrl.torch_imports import *\n",
        "from mrl.torch_core import *\n",
        "from mrl.layers import *\n",
        "from mrl.dataloaders import *\n",
        "from mrl.g_models.all import *\n",
        "from mrl.vocab import *\n",
        "from mrl.policy_gradient import *\n",
        "from mrl.train.all import *\n",
        "from mrl.model_zoo import *\n",
        "from sklearn.metrics import roc_curve, auc\n",
        "from sklearn.metrics import roc_auc_score"
      ]
    },
    {
      "cell_type": "code",
      "execution_count": 13,
      "metadata": {
        "id": "ZepQS5d0w0f1"
      },
      "outputs": [],
      "source": [
        "os.makedirs('untracked_files', exist_ok=True)"
      ]
    },
    {
      "cell_type": "markdown",
      "metadata": {
        "id": "2HHv569xw0f2"
      },
      "source": [
        "## Data\n",
        "\n",
        "The dataset comes from the [AMPlify](https://github.com/bcgsc/AMPlify) repo. It contains ~8300 short peptides classified as antimicrobial or not antimicrobial"
      ]
    },
    {
      "cell_type": "code",
      "execution_count": 15,
      "metadata": {
        "id": "iqSsJECHw0f2"
      },
      "outputs": [],
      "source": [
        "# if in the repo\n",
        "#df = pd.read_csv('../files/anti_microbial_peptides.csv')\n",
        "\n",
        "# if in Collab\n",
        "download_files()\n",
        "df = pd.read_csv('files/anti_microbial_peptides.csv')"
      ]
    },
    {
      "cell_type": "code",
      "execution_count": 16,
      "metadata": {
        "colab": {
          "base_uri": "https://localhost:8080/",
          "height": 206
        },
        "id": "WwAlDmn0w0f3",
        "outputId": "2da997db-a3a9-4d4a-df44-54be524d3c38"
      },
      "outputs": [
        {
          "output_type": "execute_result",
          "data": {
            "text/plain": [
              "         name                                           sequence dataset  \\\n",
              "0  >trAMP0001                  GLLDTFKNLALNAAKSAGVSVLNSLSCKLSKTC   train   \n",
              "1  >trAMP0002                                  AKKPVAKKAAGGVKKPK   train   \n",
              "2  >trAMP0003                                GIIDIAKKLVGGIRNVLGI   train   \n",
              "3  >trAMP0004  MAGFLKVVQLLAKYGSKAVQWAWANKGKILDWLNAGQAIDWVVSKI...   train   \n",
              "4  >trAMP0005  YGPGDGHGGGHGGGHGGGHGNGQGGGHGHGPGGGFGGGHGGGHGGG...   train   \n",
              "\n",
              "   label  \n",
              "0      1  \n",
              "1      1  \n",
              "2      1  \n",
              "3      1  \n",
              "4      1  "
            ],
            "text/html": [
              "\n",
              "  <div id=\"df-d5386d1f-6d1e-4f46-9629-432c898a3fb2\" class=\"colab-df-container\">\n",
              "    <div>\n",
              "<style scoped>\n",
              "    .dataframe tbody tr th:only-of-type {\n",
              "        vertical-align: middle;\n",
              "    }\n",
              "\n",
              "    .dataframe tbody tr th {\n",
              "        vertical-align: top;\n",
              "    }\n",
              "\n",
              "    .dataframe thead th {\n",
              "        text-align: right;\n",
              "    }\n",
              "</style>\n",
              "<table border=\"1\" class=\"dataframe\">\n",
              "  <thead>\n",
              "    <tr style=\"text-align: right;\">\n",
              "      <th></th>\n",
              "      <th>name</th>\n",
              "      <th>sequence</th>\n",
              "      <th>dataset</th>\n",
              "      <th>label</th>\n",
              "    </tr>\n",
              "  </thead>\n",
              "  <tbody>\n",
              "    <tr>\n",
              "      <th>0</th>\n",
              "      <td>&gt;trAMP0001</td>\n",
              "      <td>GLLDTFKNLALNAAKSAGVSVLNSLSCKLSKTC</td>\n",
              "      <td>train</td>\n",
              "      <td>1</td>\n",
              "    </tr>\n",
              "    <tr>\n",
              "      <th>1</th>\n",
              "      <td>&gt;trAMP0002</td>\n",
              "      <td>AKKPVAKKAAGGVKKPK</td>\n",
              "      <td>train</td>\n",
              "      <td>1</td>\n",
              "    </tr>\n",
              "    <tr>\n",
              "      <th>2</th>\n",
              "      <td>&gt;trAMP0003</td>\n",
              "      <td>GIIDIAKKLVGGIRNVLGI</td>\n",
              "      <td>train</td>\n",
              "      <td>1</td>\n",
              "    </tr>\n",
              "    <tr>\n",
              "      <th>3</th>\n",
              "      <td>&gt;trAMP0004</td>\n",
              "      <td>MAGFLKVVQLLAKYGSKAVQWAWANKGKILDWLNAGQAIDWVVSKI...</td>\n",
              "      <td>train</td>\n",
              "      <td>1</td>\n",
              "    </tr>\n",
              "    <tr>\n",
              "      <th>4</th>\n",
              "      <td>&gt;trAMP0005</td>\n",
              "      <td>YGPGDGHGGGHGGGHGGGHGNGQGGGHGHGPGGGFGGGHGGGHGGG...</td>\n",
              "      <td>train</td>\n",
              "      <td>1</td>\n",
              "    </tr>\n",
              "  </tbody>\n",
              "</table>\n",
              "</div>\n",
              "    <div class=\"colab-df-buttons\">\n",
              "\n",
              "  <div class=\"colab-df-container\">\n",
              "    <button class=\"colab-df-convert\" onclick=\"convertToInteractive('df-d5386d1f-6d1e-4f46-9629-432c898a3fb2')\"\n",
              "            title=\"Convert this dataframe to an interactive table.\"\n",
              "            style=\"display:none;\">\n",
              "\n",
              "  <svg xmlns=\"http://www.w3.org/2000/svg\" height=\"24px\" viewBox=\"0 -960 960 960\">\n",
              "    <path d=\"M120-120v-720h720v720H120Zm60-500h600v-160H180v160Zm220 220h160v-160H400v160Zm0 220h160v-160H400v160ZM180-400h160v-160H180v160Zm440 0h160v-160H620v160ZM180-180h160v-160H180v160Zm440 0h160v-160H620v160Z\"/>\n",
              "  </svg>\n",
              "    </button>\n",
              "\n",
              "  <style>\n",
              "    .colab-df-container {\n",
              "      display:flex;\n",
              "      gap: 12px;\n",
              "    }\n",
              "\n",
              "    .colab-df-convert {\n",
              "      background-color: #E8F0FE;\n",
              "      border: none;\n",
              "      border-radius: 50%;\n",
              "      cursor: pointer;\n",
              "      display: none;\n",
              "      fill: #1967D2;\n",
              "      height: 32px;\n",
              "      padding: 0 0 0 0;\n",
              "      width: 32px;\n",
              "    }\n",
              "\n",
              "    .colab-df-convert:hover {\n",
              "      background-color: #E2EBFA;\n",
              "      box-shadow: 0px 1px 2px rgba(60, 64, 67, 0.3), 0px 1px 3px 1px rgba(60, 64, 67, 0.15);\n",
              "      fill: #174EA6;\n",
              "    }\n",
              "\n",
              "    .colab-df-buttons div {\n",
              "      margin-bottom: 4px;\n",
              "    }\n",
              "\n",
              "    [theme=dark] .colab-df-convert {\n",
              "      background-color: #3B4455;\n",
              "      fill: #D2E3FC;\n",
              "    }\n",
              "\n",
              "    [theme=dark] .colab-df-convert:hover {\n",
              "      background-color: #434B5C;\n",
              "      box-shadow: 0px 1px 3px 1px rgba(0, 0, 0, 0.15);\n",
              "      filter: drop-shadow(0px 1px 2px rgba(0, 0, 0, 0.3));\n",
              "      fill: #FFFFFF;\n",
              "    }\n",
              "  </style>\n",
              "\n",
              "    <script>\n",
              "      const buttonEl =\n",
              "        document.querySelector('#df-d5386d1f-6d1e-4f46-9629-432c898a3fb2 button.colab-df-convert');\n",
              "      buttonEl.style.display =\n",
              "        google.colab.kernel.accessAllowed ? 'block' : 'none';\n",
              "\n",
              "      async function convertToInteractive(key) {\n",
              "        const element = document.querySelector('#df-d5386d1f-6d1e-4f46-9629-432c898a3fb2');\n",
              "        const dataTable =\n",
              "          await google.colab.kernel.invokeFunction('convertToInteractive',\n",
              "                                                    [key], {});\n",
              "        if (!dataTable) return;\n",
              "\n",
              "        const docLinkHtml = 'Like what you see? Visit the ' +\n",
              "          '<a target=\"_blank\" href=https://colab.research.google.com/notebooks/data_table.ipynb>data table notebook</a>'\n",
              "          + ' to learn more about interactive tables.';\n",
              "        element.innerHTML = '';\n",
              "        dataTable['output_type'] = 'display_data';\n",
              "        await google.colab.output.renderOutput(dataTable, element);\n",
              "        const docLink = document.createElement('div');\n",
              "        docLink.innerHTML = docLinkHtml;\n",
              "        element.appendChild(docLink);\n",
              "      }\n",
              "    </script>\n",
              "  </div>\n",
              "\n",
              "\n",
              "<div id=\"df-d695e95b-c9e9-46f9-87c5-caa459c31905\">\n",
              "  <button class=\"colab-df-quickchart\" onclick=\"quickchart('df-d695e95b-c9e9-46f9-87c5-caa459c31905')\"\n",
              "            title=\"Suggest charts\"\n",
              "            style=\"display:none;\">\n",
              "\n",
              "<svg xmlns=\"http://www.w3.org/2000/svg\" height=\"24px\"viewBox=\"0 0 24 24\"\n",
              "     width=\"24px\">\n",
              "    <g>\n",
              "        <path d=\"M19 3H5c-1.1 0-2 .9-2 2v14c0 1.1.9 2 2 2h14c1.1 0 2-.9 2-2V5c0-1.1-.9-2-2-2zM9 17H7v-7h2v7zm4 0h-2V7h2v10zm4 0h-2v-4h2v4z\"/>\n",
              "    </g>\n",
              "</svg>\n",
              "  </button>\n",
              "\n",
              "<style>\n",
              "  .colab-df-quickchart {\n",
              "      --bg-color: #E8F0FE;\n",
              "      --fill-color: #1967D2;\n",
              "      --hover-bg-color: #E2EBFA;\n",
              "      --hover-fill-color: #174EA6;\n",
              "      --disabled-fill-color: #AAA;\n",
              "      --disabled-bg-color: #DDD;\n",
              "  }\n",
              "\n",
              "  [theme=dark] .colab-df-quickchart {\n",
              "      --bg-color: #3B4455;\n",
              "      --fill-color: #D2E3FC;\n",
              "      --hover-bg-color: #434B5C;\n",
              "      --hover-fill-color: #FFFFFF;\n",
              "      --disabled-bg-color: #3B4455;\n",
              "      --disabled-fill-color: #666;\n",
              "  }\n",
              "\n",
              "  .colab-df-quickchart {\n",
              "    background-color: var(--bg-color);\n",
              "    border: none;\n",
              "    border-radius: 50%;\n",
              "    cursor: pointer;\n",
              "    display: none;\n",
              "    fill: var(--fill-color);\n",
              "    height: 32px;\n",
              "    padding: 0;\n",
              "    width: 32px;\n",
              "  }\n",
              "\n",
              "  .colab-df-quickchart:hover {\n",
              "    background-color: var(--hover-bg-color);\n",
              "    box-shadow: 0 1px 2px rgba(60, 64, 67, 0.3), 0 1px 3px 1px rgba(60, 64, 67, 0.15);\n",
              "    fill: var(--button-hover-fill-color);\n",
              "  }\n",
              "\n",
              "  .colab-df-quickchart-complete:disabled,\n",
              "  .colab-df-quickchart-complete:disabled:hover {\n",
              "    background-color: var(--disabled-bg-color);\n",
              "    fill: var(--disabled-fill-color);\n",
              "    box-shadow: none;\n",
              "  }\n",
              "\n",
              "  .colab-df-spinner {\n",
              "    border: 2px solid var(--fill-color);\n",
              "    border-color: transparent;\n",
              "    border-bottom-color: var(--fill-color);\n",
              "    animation:\n",
              "      spin 1s steps(1) infinite;\n",
              "  }\n",
              "\n",
              "  @keyframes spin {\n",
              "    0% {\n",
              "      border-color: transparent;\n",
              "      border-bottom-color: var(--fill-color);\n",
              "      border-left-color: var(--fill-color);\n",
              "    }\n",
              "    20% {\n",
              "      border-color: transparent;\n",
              "      border-left-color: var(--fill-color);\n",
              "      border-top-color: var(--fill-color);\n",
              "    }\n",
              "    30% {\n",
              "      border-color: transparent;\n",
              "      border-left-color: var(--fill-color);\n",
              "      border-top-color: var(--fill-color);\n",
              "      border-right-color: var(--fill-color);\n",
              "    }\n",
              "    40% {\n",
              "      border-color: transparent;\n",
              "      border-right-color: var(--fill-color);\n",
              "      border-top-color: var(--fill-color);\n",
              "    }\n",
              "    60% {\n",
              "      border-color: transparent;\n",
              "      border-right-color: var(--fill-color);\n",
              "    }\n",
              "    80% {\n",
              "      border-color: transparent;\n",
              "      border-right-color: var(--fill-color);\n",
              "      border-bottom-color: var(--fill-color);\n",
              "    }\n",
              "    90% {\n",
              "      border-color: transparent;\n",
              "      border-bottom-color: var(--fill-color);\n",
              "    }\n",
              "  }\n",
              "</style>\n",
              "\n",
              "  <script>\n",
              "    async function quickchart(key) {\n",
              "      const quickchartButtonEl =\n",
              "        document.querySelector('#' + key + ' button');\n",
              "      quickchartButtonEl.disabled = true;  // To prevent multiple clicks.\n",
              "      quickchartButtonEl.classList.add('colab-df-spinner');\n",
              "      try {\n",
              "        const charts = await google.colab.kernel.invokeFunction(\n",
              "            'suggestCharts', [key], {});\n",
              "      } catch (error) {\n",
              "        console.error('Error during call to suggestCharts:', error);\n",
              "      }\n",
              "      quickchartButtonEl.classList.remove('colab-df-spinner');\n",
              "      quickchartButtonEl.classList.add('colab-df-quickchart-complete');\n",
              "    }\n",
              "    (() => {\n",
              "      let quickchartButtonEl =\n",
              "        document.querySelector('#df-d695e95b-c9e9-46f9-87c5-caa459c31905 button');\n",
              "      quickchartButtonEl.style.display =\n",
              "        google.colab.kernel.accessAllowed ? 'block' : 'none';\n",
              "    })();\n",
              "  </script>\n",
              "</div>\n",
              "\n",
              "    </div>\n",
              "  </div>\n"
            ],
            "application/vnd.google.colaboratory.intrinsic+json": {
              "type": "dataframe",
              "variable_name": "df",
              "summary": "{\n  \"name\": \"df\",\n  \"rows\": 8346,\n  \"fields\": [\n    {\n      \"column\": \"name\",\n      \"properties\": {\n        \"dtype\": \"string\",\n        \"num_unique_values\": 8346,\n        \"samples\": [\n          \">trAMP2681\",\n          \">trAMP2511\",\n          \">trNEGATIVE2731\"\n        ],\n        \"semantic_type\": \"\",\n        \"description\": \"\"\n      }\n    },\n    {\n      \"column\": \"sequence\",\n      \"properties\": {\n        \"dtype\": \"string\",\n        \"num_unique_values\": 8346,\n        \"samples\": [\n          \"VWPLGLVICKALKIC\",\n          \"SSSLLNTAWRKFG\",\n          \"MFAGLPSLSHEQQQKAVERI\"\n        ],\n        \"semantic_type\": \"\",\n        \"description\": \"\"\n      }\n    },\n    {\n      \"column\": \"dataset\",\n      \"properties\": {\n        \"dtype\": \"category\",\n        \"num_unique_values\": 2,\n        \"samples\": [\n          \"valid\",\n          \"train\"\n        ],\n        \"semantic_type\": \"\",\n        \"description\": \"\"\n      }\n    },\n    {\n      \"column\": \"label\",\n      \"properties\": {\n        \"dtype\": \"number\",\n        \"std\": 0,\n        \"min\": 0,\n        \"max\": 1,\n        \"num_unique_values\": 2,\n        \"samples\": [\n          0,\n          1\n        ],\n        \"semantic_type\": \"\",\n        \"description\": \"\"\n      }\n    }\n  ]\n}"
            }
          },
          "metadata": {},
          "execution_count": 16
        }
      ],
      "source": [
        "df.head()"
      ]
    },
    {
      "cell_type": "markdown",
      "metadata": {
        "id": "DYt00l1Ow0f4"
      },
      "source": [
        "Most peptides are short, less than 50 amino acids"
      ]
    },
    {
      "cell_type": "code",
      "execution_count": 17,
      "metadata": {
        "colab": {
          "base_uri": "https://localhost:8080/",
          "height": 447
        },
        "id": "0D-ua7Lnw0f4",
        "outputId": "8cba275c-3a35-4ee0-d44e-7d9672734724"
      },
      "outputs": [
        {
          "output_type": "execute_result",
          "data": {
            "text/plain": [
              "<Axes: >"
            ]
          },
          "metadata": {},
          "execution_count": 17
        },
        {
          "output_type": "display_data",
          "data": {
            "text/plain": [
              "<Figure size 640x480 with 1 Axes>"
            ],
            "image/png": "[encoded data removed]"
          },
          "metadata": {}
        }
      ],
      "source": [
        "df.sequence.map(lambda x: len(x)).hist()"
      ]
    },
    {
      "cell_type": "markdown",
      "metadata": {
        "id": "eAJZMmfLw0f5"
      },
      "source": [
        "## Score Function\n",
        "\n",
        "Now we want to develop a score function for predicting antimicrobial activity. We will use a CNN encoder with a MLP head to predict a binary classification value for antimicrobial activity.\n",
        "\n",
        "Our input data will be token integers for amino acids. Note that fingerprint representations are a poor fit for peptide work because peptides contain many repeating substructures.\n",
        "\n",
        "We will train on 95% of the data and validate on the 5% held out."
      ]
    },
    {
      "cell_type": "code",
      "execution_count": 18,
      "metadata": {
        "id": "oGmuNq-qw0f5"
      },
      "outputs": [],
      "source": [
        "train_df = df[df.dataset=='train']\n",
        "valid_df = df[df.dataset=='valid']"
      ]
    },
    {
      "cell_type": "code",
      "execution_count": 19,
      "metadata": {
        "id": "qr8fmadQw0f5"
      },
      "outputs": [],
      "source": [
        "aa_vocab = CharacterVocab(AMINO_ACID_VOCAB)\n",
        "\n",
        "amp_ds = Text_Prediction_Dataset(train_df.sequence.values, train_df.label.values, aa_vocab)\n",
        "test_ds = Text_Prediction_Dataset(valid_df.sequence.values, valid_df.label.values, aa_vocab)"
      ]
    },
    {
      "cell_type": "markdown",
      "metadata": {
        "id": "XBDP5UQIw0f6"
      },
      "source": [
        "This is the model we will use:"
      ]
    },
    {
      "cell_type": "code",
      "execution_count": 20,
      "metadata": {
        "id": "gRC1zL9ww0f6"
      },
      "outputs": [],
      "source": [
        "class Predictive_CNN(nn.Module):\n",
        "    def __init__(self,\n",
        "                 d_vocab,\n",
        "                 d_embedding,\n",
        "                 d_latent,\n",
        "                 filters,\n",
        "                 kernel_sizes,\n",
        "                 strides,\n",
        "                 dropouts,\n",
        "                 mlp_dims,\n",
        "                 mlp_drops,\n",
        "                 d_out\n",
        "                ):\n",
        "        super().__init__()\n",
        "\n",
        "        self.conv_encoder = Conv_Encoder(\n",
        "                                        d_vocab,\n",
        "                                        d_embedding,\n",
        "                                        d_latent,\n",
        "                                        filters,\n",
        "                                        kernel_sizes,\n",
        "                                        strides,\n",
        "                                        dropouts,\n",
        "                                    )\n",
        "\n",
        "        self.mlp_head = MLP(\n",
        "                            d_latent,\n",
        "                            mlp_dims,\n",
        "                            d_out,\n",
        "                            mlp_drops\n",
        "                            )\n",
        "\n",
        "    def forward(self, x):\n",
        "        encoded = self.conv_encoder(x)\n",
        "        out = self.mlp_head(encoded)\n",
        "        return out"
      ]
    },
    {
      "cell_type": "code",
      "execution_count": 21,
      "metadata": {
        "id": "MlyG-bSbw0f6"
      },
      "outputs": [],
      "source": [
        "d_vocab = len(aa_vocab.itos)\n",
        "d_embedding = 256\n",
        "d_latent = 512\n",
        "filters = [256, 512, 1024]\n",
        "kernel_sizes = [7, 7, 7]\n",
        "strides = [2,2,2]\n",
        "dropouts = [0.2, 0.2, 0.2]\n",
        "mlp_dims = [512, 256, 128]\n",
        "mlp_drops = [0.2, 0.2, 0.2]\n",
        "d_out = 1\n",
        "\n",
        "\n",
        "amp_model = Predictive_CNN(\n",
        "                    d_vocab,\n",
        "                    d_embedding,\n",
        "                    d_latent,\n",
        "                    filters,\n",
        "                    kernel_sizes,\n",
        "                    strides,\n",
        "                    dropouts,\n",
        "                    mlp_dims,\n",
        "                    mlp_drops,\n",
        "                    d_out\n",
        "                )"
      ]
    },
    {
      "cell_type": "code",
      "execution_count": 22,
      "metadata": {
        "id": "TbGszqbSw0f7"
      },
      "outputs": [],
      "source": [
        "r_agent = PredictiveAgent(amp_model, BinaryCrossEntropy(), amp_ds, opt_kwargs={'lr':1e-3})"
      ]
    },
    {
      "cell_type": "code",
      "execution_count": null,
      "metadata": {
        "id": "vSDys5aIw0f7"
      },
      "outputs": [],
      "source": []
    },
    {
      "cell_type": "code",
      "execution_count": 23,
      "metadata": {
        "colab": {
          "base_uri": "https://localhost:8080/",
          "height": 425
        },
        "id": "kRK_LP7Zw0f7",
        "outputId": "86e891bb-02fb-448f-8a96-83788871e7c9"
      },
      "outputs": [
        {
          "output_type": "display_data",
          "data": {
            "text/plain": [
              "<IPython.core.display.HTML object>"
            ],
            "text/html": [
              "\n",
              "<style>\n",
              "    /* Turns off some styling */\n",
              "    progress {\n",
              "        /* gets rid of default border in Firefox and Opera. */\n",
              "        border: none;\n",
              "        /* Needs to be in here for Safari polyfill so background images work as expected. */\n",
              "        background-size: auto;\n",
              "    }\n",
              "    progress:not([value]), progress:not([value])::-webkit-progress-bar {\n",
              "        background: repeating-linear-gradient(45deg, #7e7e7e, #7e7e7e 10px, #5c5c5c 10px, #5c5c5c 20px);\n",
              "    }\n",
              "    .progress-bar-interrupted, .progress-bar-interrupted::-webkit-progress-bar {\n",
              "        background: #F44336;\n",
              "    }\n",
              "</style>\n"
            ]
          },
          "metadata": {}
        },
        {
          "output_type": "display_data",
          "data": {
            "text/plain": [
              "<IPython.core.display.HTML object>"
            ],
            "text/html": [
              "<table border=\"1\" class=\"dataframe\">\n",
              "  <thead>\n",
              "    <tr style=\"text-align: left;\">\n",
              "      <th>Epoch</th>\n",
              "      <th>Train Loss</th>\n",
              "      <th>Valid  Loss</th>\n",
              "      <th>Time</th>\n",
              "    </tr>\n",
              "  </thead>\n",
              "  <tbody>\n",
              "    <tr>\n",
              "      <td>0</td>\n",
              "      <td>0.44020</td>\n",
              "      <td>0.48548</td>\n",
              "      <td>02:24</td>\n",
              "    </tr>\n",
              "    <tr>\n",
              "      <td>1</td>\n",
              "      <td>0.34184</td>\n",
              "      <td>0.65701</td>\n",
              "      <td>02:30</td>\n",
              "    </tr>\n",
              "    <tr>\n",
              "      <td>2</td>\n",
              "      <td>0.33623</td>\n",
              "      <td>0.38718</td>\n",
              "      <td>02:23</td>\n",
              "    </tr>\n",
              "    <tr>\n",
              "      <td>3</td>\n",
              "      <td>0.30445</td>\n",
              "      <td>0.38766</td>\n",
              "      <td>02:19</td>\n",
              "    </tr>\n",
              "    <tr>\n",
              "      <td>4</td>\n",
              "      <td>0.29862</td>\n",
              "      <td>0.34658</td>\n",
              "      <td>02:23</td>\n",
              "    </tr>\n",
              "    <tr>\n",
              "      <td>5</td>\n",
              "      <td>0.27094</td>\n",
              "      <td>0.35449</td>\n",
              "      <td>02:31</td>\n",
              "    </tr>\n",
              "    <tr>\n",
              "      <td>6</td>\n",
              "      <td>0.25621</td>\n",
              "      <td>0.35607</td>\n",
              "      <td>02:22</td>\n",
              "    </tr>\n",
              "    <tr>\n",
              "      <td>7</td>\n",
              "      <td>0.22055</td>\n",
              "      <td>0.76049</td>\n",
              "      <td>02:28</td>\n",
              "    </tr>\n",
              "    <tr>\n",
              "      <td>8</td>\n",
              "      <td>0.16799</td>\n",
              "      <td>0.33478</td>\n",
              "      <td>02:28</td>\n",
              "    </tr>\n",
              "    <tr>\n",
              "      <td>9</td>\n",
              "      <td>0.15590</td>\n",
              "      <td>0.35527</td>\n",
              "      <td>02:26</td>\n",
              "    </tr>\n",
              "    <tr>\n",
              "      <td>10</td>\n",
              "      <td>0.11132</td>\n",
              "      <td>0.38141</td>\n",
              "      <td>02:31</td>\n",
              "    </tr>\n",
              "    <tr>\n",
              "      <td>11</td>\n",
              "      <td>0.09139</td>\n",
              "      <td>0.33601</td>\n",
              "      <td>02:23</td>\n",
              "    </tr>\n",
              "  </tbody>\n",
              "</table>"
            ]
          },
          "metadata": {}
        }
      ],
      "source": [
        "r_agent.train_supervised(32, 12, 1e-3)"
      ]
    },
    {
      "cell_type": "markdown",
      "metadata": {
        "id": "3rdtkLMSw0f8"
      },
      "source": [
        "Optional: save score function weights"
      ]
    },
    {
      "cell_type": "code",
      "execution_count": 24,
      "metadata": {
        "id": "T75e7vm9w0f8"
      },
      "outputs": [],
      "source": [
        "# r_agent.save_weights('untracked_files/amp_predictor.pt')"
      ]
    },
    {
      "cell_type": "markdown",
      "metadata": {
        "id": "UCmNI7oew0f8"
      },
      "source": [
        "Optional: to load the exact weights used, run the following:"
      ]
    },
    {
      "cell_type": "code",
      "execution_count": 25,
      "metadata": {
        "id": "CMZH9ZkOw0f8"
      },
      "outputs": [],
      "source": [
        "# r_agent.load_state_dict(model_from_url('amp_predictor.pt'))"
      ]
    },
    {
      "cell_type": "code",
      "execution_count": null,
      "metadata": {
        "id": "IrADpLM2w0f8"
      },
      "outputs": [],
      "source": []
    },
    {
      "cell_type": "code",
      "execution_count": 26,
      "metadata": {
        "id": "V4z7o51Jw0f8"
      },
      "outputs": [],
      "source": [
        "# validate\n",
        "\n",
        "valid_dl = test_ds.dataloader(256, shuffle=False)\n",
        "r_agent.model.eval();\n",
        "\n",
        "preds = []\n",
        "targs = []\n",
        "\n",
        "with torch.no_grad():\n",
        "    for i, batch in enumerate(valid_dl):\n",
        "        batch = to_device(batch)\n",
        "        x,y = batch\n",
        "        pred = r_agent.model(x)\n",
        "        preds.append(pred.detach().cpu())\n",
        "        targs.append(y.detach().cpu())\n",
        "\n",
        "preds = torch.cat(preds).numpy()\n",
        "targs = torch.cat(targs).numpy()"
      ]
    },
    {
      "cell_type": "code",
      "execution_count": 27,
      "metadata": {
        "colab": {
          "base_uri": "https://localhost:8080/",
          "height": 472
        },
        "id": "MKdfN6Uow0f9",
        "outputId": "d310045e-f6cb-4605-9282-7029f5d13106"
      },
      "outputs": [
        {
          "output_type": "display_data",
          "data": {
            "text/plain": [
              "<Figure size 640x480 with 1 Axes>"
            ],
            "image/png": "[encoded data removed]"
          },
          "metadata": {}
        }
      ],
      "source": [
        "fpr, tpr, _ = roc_curve(targs, torch.tensor(preds).sigmoid().squeeze().numpy())\n",
        "roc_auc = auc(fpr, tpr)\n",
        "\n",
        "plt.figure()\n",
        "lw = 2\n",
        "plt.plot(fpr, tpr, color='darkorange',\n",
        "         lw=lw, label='ROC curve (area = %0.4f)' % roc_auc)\n",
        "plt.plot([0, 1], [0, 1], color='navy', lw=lw, linestyle='--')\n",
        "plt.xlim([0.0, 1.0])\n",
        "plt.ylim([0.0, 1.05])\n",
        "plt.xlabel('False Positive Rate')\n",
        "plt.ylabel('True Positive Rate')\n",
        "plt.title('Receiver operating characteristic example')\n",
        "plt.legend(loc=\"lower right\")\n",
        "plt.show()"
      ]
    },
    {
      "cell_type": "markdown",
      "metadata": {
        "id": "J0jHPLqyw0f9"
      },
      "source": [
        "## Chemical Space\n",
        "\n",
        "Next we need to develop our chemical space. This is where we decide what sequences will be allowed and what sequences will be removed.\n",
        "\n",
        "Getting the right filtering parameters makes a huge difference in sequence quality. In practice, finding the right constraints is an interative process. First run a generative screen. Then examine the highest scoring sequences and look for undesirable properties or structural features. Then update the template and iterate.\n",
        "\n",
        "For peptides, the presence of Arginine has shown to be toxic [[ref](https://www.ncbi.nlm.nih.gov/pmc/articles/PMC5625148/)]. We will apply a template filter for the number of Arginine residues per unit length.\n",
        "\n",
        "We will also limit the maximum residue frequency in a sample to 0.4. This prevents a common failure mode of seeing the same residue repeated multiple times (ie `MSSSSSSSRP`). This is a flaw in the simplistic score functions we are using"
      ]
    },
    {
      "cell_type": "code",
      "execution_count": 28,
      "metadata": {
        "id": "jF8n8oNrw0f9"
      },
      "outputs": [],
      "source": [
        "aa_vocab = CharacterVocab(AMINO_ACID_VOCAB)\n",
        "\n",
        "template = Template([ValidityFilter(),\n",
        "                     CharacterCountFilter(['A'], min_val=0, max_val=0.1, per_length=True, mode='protein'),\n",
        "                     CharacterCountFilter(aa_vocab.itos[4:], min_val=0, max_val=0.3,\n",
        "                                          per_length=True, mode='protein')],\n",
        "                    [], fail_score=-10., log=False, use_lookup=False, mode='protein')\n",
        "\n",
        "template_cb = TemplateCallback(template, prefilter=True)"
      ]
    },
    {
      "cell_type": "markdown",
      "metadata": {
        "id": "3PVJZSEdw0f-"
      },
      "source": [
        "## Load Model\n",
        "\n",
        "We load the `LSTM_LM_Small_Swissprot` model. This is a basic LSTM-based language model trained on part of the Swissprot protein database"
      ]
    },
    {
      "cell_type": "code",
      "execution_count": 29,
      "metadata": {
        "colab": {
          "base_uri": "https://localhost:8080/"
        },
        "id": "dsnbPPZIw0f-",
        "outputId": "d5b4b68d-3175-4cd9-f404-bb24f880d9e5"
      },
      "outputs": [
        {
          "output_type": "stream",
          "name": "stderr",
          "text": [
            "Downloading: \"https://dmai-mrl.s3.amazonaws.com/mrl_public/lstmlm_small_swissprot.pt\" to /root/.cache/torch/hub/checkpoints/lstmlm_small_swissprot.pt\n",
            "100%|██████████| 57.1M/57.1M [00:01<00:00, 48.2MB/s]\n"
          ]
        }
      ],
      "source": [
        "agent = LSTM_LM_Small_Swissprot(drop_scale=0.3, opt_kwargs={'lr':1e-4})"
      ]
    },
    {
      "cell_type": "markdown",
      "metadata": {
        "id": "wduwbmFqw0f-"
      },
      "source": [
        "## Fine-Tune Model\n",
        "\n",
        "The pretrained model we loaded is a very general model that can produce a high diversity of structures. However, what we actually want are structues with antimicrobial activity. To induce this, we fine-tune on the active peptides in the dataset"
      ]
    },
    {
      "cell_type": "code",
      "execution_count": null,
      "metadata": {
        "colab": {
          "base_uri": "https://localhost:8080/",
          "height": 361
        },
        "id": "heGh7Tmkw0f_",
        "outputId": "4a588464-409d-4b18-d848-4052adab646e"
      },
      "outputs": [
        {
          "data": {
            "text/html": [
              "\n",
              "<style>\n",
              "    /* Turns off some styling */\n",
              "    progress {\n",
              "        /* gets rid of default border in Firefox and Opera. */\n",
              "        border: none;\n",
              "        /* Needs to be in here for Safari polyfill so background images work as expected. */\n",
              "        background-size: auto;\n",
              "    }\n",
              "    progress:not([value]), progress:not([value])::-webkit-progress-bar {\n",
              "        background: repeating-linear-gradient(45deg, #7e7e7e, #7e7e7e 10px, #5c5c5c 10px, #5c5c5c 20px);\n",
              "    }\n",
              "    .progress-bar-interrupted, .progress-bar-interrupted::-webkit-progress-bar {\n",
              "        background: #F44336;\n",
              "    }\n",
              "</style>\n"
            ],
            "text/plain": [
              "<IPython.core.display.HTML object>"
            ]
          },
          "metadata": {},
          "output_type": "display_data"
        },
        {
          "data": {
            "text/html": [
              "\n",
              "    <div>\n",
              "      <progress value='3' class='' max='8' style='width:300px; height:20px; vertical-align: middle;'></progress>\n",
              "      37.50% [3/8 2:23:28&lt;3:59:06]\n",
              "    </div>\n",
              "    \n",
              "<table border=\"1\" class=\"dataframe\">\n",
              "  <thead>\n",
              "    <tr style=\"text-align: left;\">\n",
              "      <th>Epoch</th>\n",
              "      <th>Train Loss</th>\n",
              "      <th>Valid  Loss</th>\n",
              "      <th>Time</th>\n",
              "    </tr>\n",
              "  </thead>\n",
              "  <tbody>\n",
              "    <tr>\n",
              "      <td>0</td>\n",
              "      <td>1.05658</td>\n",
              "      <td>1.15198</td>\n",
              "      <td>51:23</td>\n",
              "    </tr>\n",
              "    <tr>\n",
              "      <td>1</td>\n",
              "      <td>0.99230</td>\n",
              "      <td>1.05511</td>\n",
              "      <td>49:05</td>\n",
              "    </tr>\n",
              "    <tr>\n",
              "      <td>2</td>\n",
              "      <td>0.89621</td>\n",
              "      <td>0.99350</td>\n",
              "      <td>42:58</td>\n",
              "    </tr>\n",
              "  </tbody>\n",
              "</table><p>\n",
              "\n",
              "    <div>\n",
              "      <progress value='50' class='' max='124' style='width:300px; height:20px; vertical-align: middle;'></progress>\n",
              "      40.32% [50/124 15:20&lt;22:42 1.28003]\n",
              "    </div>\n",
              "    "
            ],
            "text/plain": [
              "<IPython.core.display.HTML object>"
            ]
          },
          "metadata": {},
          "output_type": "display_data"
        },
        {
          "output_type": "display_data",
          "data": {
            "text/plain": [
              "<IPython.core.display.HTML object>"
            ],
            "text/html": [
              "\n",
              "    <div>\n",
              "      <progress value='3' class='' max='8' style='width:300px; height:20px; vertical-align: middle;'></progress>\n",
              "      37.50% [3/8 2:23:28&lt;3:59:06]\n",
              "    </div>\n",
              "    \n",
              "<table border=\"1\" class=\"dataframe\">\n",
              "  <thead>\n",
              "    <tr style=\"text-align: left;\">\n",
              "      <th>Epoch</th>\n",
              "      <th>Train Loss</th>\n",
              "      <th>Valid  Loss</th>\n",
              "      <th>Time</th>\n",
              "    </tr>\n",
              "  </thead>\n",
              "  <tbody>\n",
              "    <tr>\n",
              "      <td>0</td>\n",
              "      <td>1.05658</td>\n",
              "      <td>1.15198</td>\n",
              "      <td>51:23</td>\n",
              "    </tr>\n",
              "    <tr>\n",
              "      <td>1</td>\n",
              "      <td>0.99230</td>\n",
              "      <td>1.05511</td>\n",
              "      <td>49:05</td>\n",
              "    </tr>\n",
              "    <tr>\n",
              "      <td>2</td>\n",
              "      <td>0.89621</td>\n",
              "      <td>0.99350</td>\n",
              "      <td>42:58</td>\n",
              "    </tr>\n",
              "  </tbody>\n",
              "</table><p>\n",
              "\n",
              "    <div>\n",
              "      <progress value='52' class='' max='124' style='width:300px; height:20px; vertical-align: middle;'></progress>\n",
              "      41.94% [52/124 15:50&lt;21:56 0.94960]\n",
              "    </div>\n",
              "    "
            ]
          },
          "metadata": {}
        }
      ],
      "source": [
        "agent.update_dataset_from_inputs(df[df.label==1].sequence.values)\n",
        "agent.train_supervised(32, 8, 5e-5)\n",
        "agent.base_to_model()"
      ]
    },
    {
      "cell_type": "markdown",
      "metadata": {
        "id": "0gutEOwCw0gA"
      },
      "source": [
        "Optional: save fine-tuned weights"
      ]
    },
    {
      "cell_type": "code",
      "execution_count": null,
      "metadata": {
        "id": "Z5Tch4sVw0gA"
      },
      "outputs": [],
      "source": [
        "# agent.save_weights('untracked_files/finetuned_model.pt')"
      ]
    },
    {
      "cell_type": "code",
      "execution_count": null,
      "metadata": {
        "id": "ID1mxhcCw0gA"
      },
      "outputs": [],
      "source": [
        "# agent.load_weights('untracked_files/finetuned_model.pt')"
      ]
    },
    {
      "cell_type": "markdown",
      "metadata": {
        "id": "wxan7RX3w0gA"
      },
      "source": [
        "# Reinforcement Learning\n",
        "\n",
        "Now we enter the reinforcement learning stage"
      ]
    },
    {
      "cell_type": "markdown",
      "metadata": {
        "id": "r49CphW9w0gA"
      },
      "source": [
        "### Loss\n",
        "\n",
        "We use `PPO` as our policy gradient loss"
      ]
    },
    {
      "cell_type": "code",
      "execution_count": null,
      "metadata": {
        "id": "gqxGJNPNw0gB"
      },
      "outputs": [],
      "source": [
        "pg = PPO(0.99,\n",
        "        0.5,\n",
        "        lam=0.95,\n",
        "        v_coef=0.5,\n",
        "        cliprange=0.3,\n",
        "        v_cliprange=0.3,\n",
        "        ent_coef=0.01,\n",
        "        kl_target=0.03,\n",
        "        kl_horizon=3000,\n",
        "        scale_rewards=True)\n",
        "\n",
        "loss = PolicyLoss(pg, 'PPO',\n",
        "                   value_head=ValueHead(256),\n",
        "                   v_update_iter=2,\n",
        "                   vopt_kwargs={'lr':1e-3})"
      ]
    },
    {
      "cell_type": "markdown",
      "metadata": {
        "id": "8vtRkcmgw0gI"
      },
      "source": [
        "### Reward\n",
        "\n",
        "Here we pass the reward agent we trained earlier to a callback.\n",
        "\n",
        "Since our model is a classification model, we have a decision with respect to what value we output from our score function. We could output the raw logit value from the model, or the sigmoid-scaled classification prediction.\n",
        "\n",
        "If we use the sigmoid-scaled output, we tend to get lots of samples with scores in the `0.999` range that only differ by a very small amount. This can make it difficult to differentiate the true winners.\n",
        "\n",
        "If we use the logit output, we can get much better differentiation of samples at the top end. However, we have a much higher chance of finding weird samples that get absurd logit values.\n",
        "\n",
        "The code below uses the raw logit value, clipped to a range of `[-10, 10]`"
      ]
    },
    {
      "cell_type": "code",
      "execution_count": null,
      "metadata": {
        "id": "F5lq_eVww0gI"
      },
      "outputs": [],
      "source": [
        "d_vocab = len(aa_vocab.itos)\n",
        "d_embedding = 256\n",
        "d_latent = 512\n",
        "filters = [256, 512, 1024]\n",
        "kernel_sizes = [7, 7, 7]\n",
        "strides = [2,2,2]\n",
        "dropouts = [0.2, 0.2, 0.2]\n",
        "mlp_dims = [512, 256, 128]\n",
        "mlp_drops = [0.2, 0.2, 0.2]\n",
        "d_out = 1\n",
        "\n",
        "\n",
        "reward_model = Predictive_CNN(\n",
        "                    d_vocab,\n",
        "                    d_embedding,\n",
        "                    d_latent,\n",
        "                    filters,\n",
        "                    kernel_sizes,\n",
        "                    strides,\n",
        "                    dropouts,\n",
        "                    mlp_dims,\n",
        "                    mlp_drops,\n",
        "                    d_out\n",
        "                )\n",
        "\n",
        "\n",
        "r_ds = Text_Prediction_Dataset(['M'], [0.], aa_vocab)\n",
        "\n",
        "r_agent = PredictiveAgent(reward_model, BinaryCrossEntropy(), r_ds, opt_kwargs={'lr':1e-3})\n",
        "\n",
        "r_agent.load_weights('untracked_files/amp_predictor.pt')\n",
        "# r_agent.load_state_dict(model_from_url('amp_predictor.pt')) # optional - load exact weights\n",
        "\n",
        "reward_model.eval();\n",
        "\n",
        "freeze(reward_model)\n",
        "\n",
        "class ClippedModelReward():\n",
        "    def __init__(self, agent, minclip, maxclip):\n",
        "        self.agent = agent\n",
        "        self.minclip = minclip\n",
        "        self.maxclip = maxclip\n",
        "\n",
        "    def __call__(self, sequences):\n",
        "        preds = self.agent.predict_data(sequences)\n",
        "        preds = torch.clamp(preds, self.minclip, self.maxclip)\n",
        "        return preds\n",
        "\n",
        "reward_function = Reward(ClippedModelReward(r_agent, -10, 10), weight=1)\n",
        "\n",
        "amp_reward = RewardCallback(reward_function, 'amp')"
      ]
    },
    {
      "cell_type": "markdown",
      "metadata": {
        "id": "-lFp9lHaw0gJ"
      },
      "source": [
        "### Optional Reward: Stability Metric\n",
        "\n",
        "There has been a lot of great work recently looking at large scale transformer language models for unsupervised learning of protein structures. One interesting thing that has emerged is a rough relationship between the protein sequence log probability given by a generative model and the stability of the protein sequence.\n",
        "\n",
        "We can use the log probability values from a pretrained protein transformer model as a proxy for stability. Including this as a reward function can help keep the generated peptides realistic.\n",
        "\n",
        "To include this as a reward term, run the code below to install the [ESM](https://github.com/facebookresearch/esm) library to access a pretrained protein transformer model.\n",
        "\n",
        "In the interest of time, we will use the smallest ESM model with 43M parameters, rather than the large scale 630M parameter model. Note that even with the smaller model, this reward term adds significanly to the training runtime"
      ]
    },
    {
      "cell_type": "code",
      "execution_count": null,
      "metadata": {
        "id": "cxbik3Abw0gJ"
      },
      "outputs": [],
      "source": [
        "# Optional: insall ESM\n",
        "# ! pip install fair-esm"
      ]
    },
    {
      "cell_type": "code",
      "execution_count": null,
      "metadata": {
        "id": "ET8jcx_9w0gJ"
      },
      "outputs": [],
      "source": [
        "import esm"
      ]
    },
    {
      "cell_type": "code",
      "execution_count": null,
      "metadata": {
        "id": "a-5cAOQQw0gK"
      },
      "outputs": [],
      "source": [
        "protein_model, alphabet = esm.pretrained.esm1_t6_43M_UR50S()\n",
        "batch_converter = alphabet.get_batch_converter()"
      ]
    },
    {
      "cell_type": "code",
      "execution_count": null,
      "metadata": {
        "id": "twwrPYCxw0gK"
      },
      "outputs": [],
      "source": [
        "class PeptideStability():\n",
        "    def __init__(self, model, alphabet, batch_converter):\n",
        "        self.model = model\n",
        "        to_device(self.model)\n",
        "        self.alphabet = alphabet\n",
        "        self.batch_converter = batch_converter\n",
        "\n",
        "    def __call__(self, samples):\n",
        "\n",
        "        data = [\n",
        "            (f'protein{i}', samples[i]) for i in range(len(samples))\n",
        "        ]\n",
        "\n",
        "        batch_labels, batch_strs, batch_tokens = self.batch_converter(data)\n",
        "\n",
        "        with torch.no_grad():\n",
        "            results = self.model(to_device(batch_tokens))\n",
        "\n",
        "        lps = F.log_softmax(results['logits'], -1)\n",
        "\n",
        "        mean_lps = lps.gather(2, to_device(batch_tokens).unsqueeze(-1)).squeeze(-1).mean(-1)\n",
        "\n",
        "        return mean_lps"
      ]
    },
    {
      "cell_type": "code",
      "execution_count": null,
      "metadata": {
        "id": "v1I-BQZmw0gK"
      },
      "outputs": [],
      "source": [
        "ps = PeptideStability(protein_model, alphabet, batch_converter)"
      ]
    },
    {
      "cell_type": "code",
      "execution_count": null,
      "metadata": {
        "id": "cxeNjDxLw0gK"
      },
      "outputs": [],
      "source": [
        "stability_reward = Reward(ps, weight=0.1, bs=300)\n",
        "stability_cb = RewardCallback(stability_reward, name='stability')"
      ]
    },
    {
      "cell_type": "code",
      "execution_count": null,
      "metadata": {
        "id": "CDquRDhsw0gK",
        "outputId": "85cdd3e7-9d1a-49a8-ca5c-5e46cdb2ce48"
      },
      "outputs": [
        {
          "data": {
            "text/plain": [
              "tensor([-2.8469, -3.1892, -3.2956, -1.7978, -0.1794, -4.1585, -3.9322, -3.8093,\n",
              "        -2.4914, -3.7035], device='cuda:0')"
            ]
          },
          "execution_count": null,
          "metadata": {},
          "output_type": "execute_result"
        }
      ],
      "source": [
        "stability_reward(df.sequence.values[:10])"
      ]
    },
    {
      "cell_type": "markdown",
      "metadata": {
        "id": "ujfiU26Zw0gL"
      },
      "source": [
        "### Samplers\n",
        "\n",
        "We create the following samplers:\n",
        "- `sampler1 ModelSampler`: this samples from the main model. This sample will add 1000 compounds to the buffer each buffer build, and sample 40% of each batch on the fly from the main model.\n",
        "- `sampler2 ModelSampler`: this samples from the baseline model and is not sampled live on each batch\n",
        "- `sampler3 LogSampler`: this samples high scoring samples from the lig\n",
        "- `sampler4 TokenSwapSampler`: this uses token swap comibichem to generate new samples from high scoring samples\n",
        "- `sampler5 DatasetSampler`: this sprinkles in a small amount of known actives into each buffer build. Note that we subset by peptide length to align with the generated length (75 amino acids)"
      ]
    },
    {
      "cell_type": "code",
      "execution_count": null,
      "metadata": {
        "id": "EO39il9Mw0gL"
      },
      "outputs": [],
      "source": [
        "gen_bs = 1500\n",
        "\n",
        "sampler1 = ModelSampler(agent.vocab, agent.model, 'live', 1000, 0., gen_bs)\n",
        "sampler2 = ModelSampler(agent.vocab, agent.base_model, 'base', 1000, 0., gen_bs)\n",
        "sampler3 = LogSampler('samples', 'rewards', 10, 98, 200)\n",
        "sampler4 = TokenSwapSampler('samples', 'rewards', 10, 98, 200, aa_vocab, 0.2)\n",
        "sampler5 = DatasetSampler(df[(df.label==1) & (df.sequence.map(lambda x: len(x)<=75))].sequence.values,\n",
        "                          'data', buffer_size=4)\n",
        "\n",
        "samplers = [sampler1, sampler2, sampler3, sampler4, sampler5]"
      ]
    },
    {
      "cell_type": "markdown",
      "metadata": {
        "id": "Pr2F7OIPw0gL"
      },
      "source": [
        "### Callbacks\n",
        "\n",
        "Additional callbacks\n",
        "- `SupervisedCB`: runs supervised training on the top 3% of samples every 400 batches\n",
        "- `MaxCallback`: prints the max reward for each batch\n",
        "- `PercentileCallback`: prints the 90th percentile score each batch"
      ]
    },
    {
      "cell_type": "code",
      "execution_count": null,
      "metadata": {
        "id": "t2d0ZHV9w0gL"
      },
      "outputs": [],
      "source": [
        "supervised_cb = SupervisedCB(agent, 20, 0.5, 98, 1e-4, 64)\n",
        "live_max = MaxCallback('rewards', 'live')\n",
        "live_p90 = PercentileCallback('rewards', 'live', 90)\n",
        "\n",
        "cbs = [supervised_cb, live_p90, live_max]"
      ]
    },
    {
      "cell_type": "markdown",
      "metadata": {
        "id": "zVyzLMd5w0gM"
      },
      "source": [
        "## Environment and Train\n",
        "\n",
        "Now we can put together our Environment and run the training process"
      ]
    },
    {
      "cell_type": "code",
      "execution_count": null,
      "metadata": {
        "id": "CH_pEA2dw0gM"
      },
      "outputs": [],
      "source": [
        "env = Environment(agent, template_cb, samplers=samplers, rewards=[amp_reward, stability_cb], losses=[loss],\n",
        "                 cbs=cbs)"
      ]
    },
    {
      "cell_type": "code",
      "execution_count": null,
      "metadata": {
        "id": "_3Q4K9Mkw0gM"
      },
      "outputs": [],
      "source": [
        "set_global_pool(min(12, os.cpu_count()))"
      ]
    },
    {
      "cell_type": "code",
      "execution_count": null,
      "metadata": {
        "id": "p09GssTew0gM",
        "outputId": "a3f1fb01-63fd-4cad-bc1b-0752916527ca"
      },
      "outputs": [
        {
          "data": {
            "text/html": [
              "<table border=\"1\" class=\"dataframe\">\n",
              "  <thead>\n",
              "    <tr style=\"text-align: left;\">\n",
              "      <th>iterations</th>\n",
              "      <th>rewards</th>\n",
              "      <th>rewards_final</th>\n",
              "      <th>new</th>\n",
              "      <th>diversity</th>\n",
              "      <th>bs</th>\n",
              "      <th>template</th>\n",
              "      <th>valid</th>\n",
              "      <th>amp</th>\n",
              "      <th>stability</th>\n",
              "      <th>PPO</th>\n",
              "      <th>rewards_live_p90</th>\n",
              "      <th>rewards_live_max</th>\n",
              "    </tr>\n",
              "  </thead>\n",
              "  <tbody>\n",
              "    <tr>\n",
              "      <td>0</td>\n",
              "      <td>-0.824</td>\n",
              "      <td>-0.824</td>\n",
              "      <td>1.000</td>\n",
              "      <td>1.000</td>\n",
              "      <td>128</td>\n",
              "      <td>0.000</td>\n",
              "      <td>1.000</td>\n",
              "      <td>2.367</td>\n",
              "      <td>-3.191</td>\n",
              "      <td>2.453</td>\n",
              "      <td>3.657</td>\n",
              "      <td>6.105</td>\n",
              "    </tr>\n",
              "    <tr>\n",
              "      <td>20</td>\n",
              "      <td>1.215</td>\n",
              "      <td>1.215</td>\n",
              "      <td>0.969</td>\n",
              "      <td>1.000</td>\n",
              "      <td>128</td>\n",
              "      <td>0.000</td>\n",
              "      <td>1.000</td>\n",
              "      <td>3.946</td>\n",
              "      <td>-2.731</td>\n",
              "      <td>4.314</td>\n",
              "      <td>7.218</td>\n",
              "      <td>9.701</td>\n",
              "    </tr>\n",
              "    <tr>\n",
              "      <td>40</td>\n",
              "      <td>3.259</td>\n",
              "      <td>3.259</td>\n",
              "      <td>0.922</td>\n",
              "      <td>1.000</td>\n",
              "      <td>128</td>\n",
              "      <td>0.000</td>\n",
              "      <td>1.000</td>\n",
              "      <td>5.021</td>\n",
              "      <td>-1.762</td>\n",
              "      <td>5.137</td>\n",
              "      <td>9.453</td>\n",
              "      <td>9.752</td>\n",
              "    </tr>\n",
              "    <tr>\n",
              "      <td>60</td>\n",
              "      <td>6.111</td>\n",
              "      <td>6.111</td>\n",
              "      <td>0.844</td>\n",
              "      <td>1.000</td>\n",
              "      <td>128</td>\n",
              "      <td>0.000</td>\n",
              "      <td>1.000</td>\n",
              "      <td>7.243</td>\n",
              "      <td>-1.131</td>\n",
              "      <td>6.201</td>\n",
              "      <td>9.640</td>\n",
              "      <td>9.676</td>\n",
              "    </tr>\n",
              "    <tr>\n",
              "      <td>80</td>\n",
              "      <td>6.526</td>\n",
              "      <td>6.526</td>\n",
              "      <td>0.852</td>\n",
              "      <td>1.000</td>\n",
              "      <td>128</td>\n",
              "      <td>0.000</td>\n",
              "      <td>1.000</td>\n",
              "      <td>7.476</td>\n",
              "      <td>-0.950</td>\n",
              "      <td>4.232</td>\n",
              "      <td>9.597</td>\n",
              "      <td>9.675</td>\n",
              "    </tr>\n",
              "    <tr>\n",
              "      <td>100</td>\n",
              "      <td>7.899</td>\n",
              "      <td>7.899</td>\n",
              "      <td>0.844</td>\n",
              "      <td>1.000</td>\n",
              "      <td>128</td>\n",
              "      <td>0.000</td>\n",
              "      <td>1.000</td>\n",
              "      <td>8.536</td>\n",
              "      <td>-0.637</td>\n",
              "      <td>2.952</td>\n",
              "      <td>9.732</td>\n",
              "      <td>9.747</td>\n",
              "    </tr>\n",
              "    <tr>\n",
              "      <td>120</td>\n",
              "      <td>8.080</td>\n",
              "      <td>8.080</td>\n",
              "      <td>0.875</td>\n",
              "      <td>1.000</td>\n",
              "      <td>128</td>\n",
              "      <td>0.000</td>\n",
              "      <td>1.000</td>\n",
              "      <td>8.717</td>\n",
              "      <td>-0.637</td>\n",
              "      <td>1.876</td>\n",
              "      <td>9.698</td>\n",
              "      <td>9.720</td>\n",
              "    </tr>\n",
              "    <tr>\n",
              "      <td>140</td>\n",
              "      <td>8.489</td>\n",
              "      <td>8.489</td>\n",
              "      <td>0.820</td>\n",
              "      <td>1.000</td>\n",
              "      <td>128</td>\n",
              "      <td>0.000</td>\n",
              "      <td>1.000</td>\n",
              "      <td>8.878</td>\n",
              "      <td>-0.390</td>\n",
              "      <td>0.945</td>\n",
              "      <td>9.742</td>\n",
              "      <td>9.762</td>\n",
              "    </tr>\n",
              "    <tr>\n",
              "      <td>160</td>\n",
              "      <td>8.553</td>\n",
              "      <td>8.553</td>\n",
              "      <td>0.828</td>\n",
              "      <td>1.000</td>\n",
              "      <td>128</td>\n",
              "      <td>0.000</td>\n",
              "      <td>1.000</td>\n",
              "      <td>9.049</td>\n",
              "      <td>-0.496</td>\n",
              "      <td>0.694</td>\n",
              "      <td>9.702</td>\n",
              "      <td>9.727</td>\n",
              "    </tr>\n",
              "    <tr>\n",
              "      <td>180</td>\n",
              "      <td>8.925</td>\n",
              "      <td>8.925</td>\n",
              "      <td>0.852</td>\n",
              "      <td>1.000</td>\n",
              "      <td>128</td>\n",
              "      <td>0.000</td>\n",
              "      <td>1.000</td>\n",
              "      <td>9.333</td>\n",
              "      <td>-0.408</td>\n",
              "      <td>0.427</td>\n",
              "      <td>9.755</td>\n",
              "      <td>9.766</td>\n",
              "    </tr>\n",
              "    <tr>\n",
              "      <td>200</td>\n",
              "      <td>9.152</td>\n",
              "      <td>9.152</td>\n",
              "      <td>0.797</td>\n",
              "      <td>1.000</td>\n",
              "      <td>128</td>\n",
              "      <td>0.000</td>\n",
              "      <td>1.000</td>\n",
              "      <td>9.461</td>\n",
              "      <td>-0.309</td>\n",
              "      <td>0.211</td>\n",
              "      <td>9.712</td>\n",
              "      <td>9.727</td>\n",
              "    </tr>\n",
              "    <tr>\n",
              "      <td>220</td>\n",
              "      <td>9.195</td>\n",
              "      <td>9.195</td>\n",
              "      <td>0.781</td>\n",
              "      <td>1.000</td>\n",
              "      <td>128</td>\n",
              "      <td>0.000</td>\n",
              "      <td>1.000</td>\n",
              "      <td>9.520</td>\n",
              "      <td>-0.324</td>\n",
              "      <td>0.310</td>\n",
              "      <td>9.760</td>\n",
              "      <td>9.776</td>\n",
              "    </tr>\n",
              "    <tr>\n",
              "      <td>240</td>\n",
              "      <td>9.096</td>\n",
              "      <td>9.096</td>\n",
              "      <td>0.797</td>\n",
              "      <td>1.000</td>\n",
              "      <td>128</td>\n",
              "      <td>0.000</td>\n",
              "      <td>1.000</td>\n",
              "      <td>9.503</td>\n",
              "      <td>-0.407</td>\n",
              "      <td>0.486</td>\n",
              "      <td>9.713</td>\n",
              "      <td>9.725</td>\n",
              "    </tr>\n",
              "    <tr>\n",
              "      <td>260</td>\n",
              "      <td>9.295</td>\n",
              "      <td>9.295</td>\n",
              "      <td>0.805</td>\n",
              "      <td>1.000</td>\n",
              "      <td>128</td>\n",
              "      <td>0.000</td>\n",
              "      <td>1.000</td>\n",
              "      <td>9.600</td>\n",
              "      <td>-0.305</td>\n",
              "      <td>0.262</td>\n",
              "      <td>9.765</td>\n",
              "      <td>9.779</td>\n",
              "    </tr>\n",
              "    <tr>\n",
              "      <td>280</td>\n",
              "      <td>9.299</td>\n",
              "      <td>9.299</td>\n",
              "      <td>0.859</td>\n",
              "      <td>1.000</td>\n",
              "      <td>128</td>\n",
              "      <td>0.000</td>\n",
              "      <td>1.000</td>\n",
              "      <td>9.623</td>\n",
              "      <td>-0.324</td>\n",
              "      <td>0.406</td>\n",
              "      <td>9.774</td>\n",
              "      <td>9.806</td>\n",
              "    </tr>\n",
              "  </tbody>\n",
              "</table>"
            ],
            "text/plain": [
              "<IPython.core.display.HTML object>"
            ]
          },
          "metadata": {},
          "output_type": "display_data"
        }
      ],
      "source": [
        "env.fit(128, 75, 300, 20)"
      ]
    },
    {
      "cell_type": "code",
      "execution_count": null,
      "metadata": {
        "id": "XsWBCqhxw0gN",
        "outputId": "ca8b5a14-280f-4497-faee-2eecab7d7ca0"
      },
      "outputs": [
        {
          "data": {
            "image/png": "[encoded data removed]",
            "text/plain": [
              "<Figure size 1152x864 with 12 Axes>"
            ]
          },
          "metadata": {
            "needs_background": "light"
          },
          "output_type": "display_data"
        }
      ],
      "source": [
        "env.log.plot_metrics()"
      ]
    },
    {
      "cell_type": "markdown",
      "metadata": {
        "id": "UU4VIEU0w0gN"
      },
      "source": [
        "## Evaluation\n",
        "\n",
        "Looking at high scoring sequences, we see many sequences contain with a high concentration of `K` residues. These features likely come from a small number of dataset samples with high `K` contents. For example, `AATKPKKAGAEAAPKKPAKKQTKKKPAKKAGGKKKPKRAGAKKAKK` is a AMP sequence in the dataset.\n",
        "\n",
        "If these traits are undesirable, they can be controlled by updating the `Template` to limit other residues the same way we limited `A` residues."
      ]
    },
    {
      "cell_type": "code",
      "execution_count": null,
      "metadata": {
        "id": "nlZR8q4Ew0gN",
        "outputId": "f4ece8b4-4249-4a73-93c8-621c97b7a340"
      },
      "outputs": [
        {
          "data": {
            "text/html": [
              "<div>\n",
              "<style scoped>\n",
              "    .dataframe tbody tr th:only-of-type {\n",
              "        vertical-align: middle;\n",
              "    }\n",
              "\n",
              "    .dataframe tbody tr th {\n",
              "        vertical-align: top;\n",
              "    }\n",
              "\n",
              "    .dataframe thead th {\n",
              "        text-align: right;\n",
              "    }\n",
              "</style>\n",
              "<table border=\"1\" class=\"dataframe\">\n",
              "  <thead>\n",
              "    <tr style=\"text-align: right;\">\n",
              "      <th></th>\n",
              "      <th>samples</th>\n",
              "      <th>sources</th>\n",
              "      <th>rewards</th>\n",
              "      <th>rewards_final</th>\n",
              "      <th>template</th>\n",
              "      <th>amp</th>\n",
              "      <th>stability</th>\n",
              "      <th>PPO</th>\n",
              "    </tr>\n",
              "  </thead>\n",
              "  <tbody>\n",
              "    <tr>\n",
              "      <th>24119</th>\n",
              "      <td>GFLIGLAAEGIKKIGGKIGKIIGKIIKKVGKNIGDTVEKIGKNAGK...</td>\n",
              "      <td>base_buffer</td>\n",
              "      <td>9.800656</td>\n",
              "      <td>9.800656</td>\n",
              "      <td>0.0</td>\n",
              "      <td>10.0</td>\n",
              "      <td>-0.199344</td>\n",
              "      <td>-0.473588</td>\n",
              "    </tr>\n",
              "    <tr>\n",
              "      <th>24514</th>\n",
              "      <td>GIPGAIGKAIKGGLGKVLKGCGVKGAKIIGGGRKVGINGKVVKKVV...</td>\n",
              "      <td>base_buffer</td>\n",
              "      <td>9.800788</td>\n",
              "      <td>9.800788</td>\n",
              "      <td>0.0</td>\n",
              "      <td>10.0</td>\n",
              "      <td>-0.199212</td>\n",
              "      <td>-0.319604</td>\n",
              "    </tr>\n",
              "    <tr>\n",
              "      <th>29395</th>\n",
              "      <td>GLLGLFGKAIKDIGVKVIGKAIKNIGIKGIDKIMKGIIGKKKIPNV...</td>\n",
              "      <td>live_buffer</td>\n",
              "      <td>9.802987</td>\n",
              "      <td>9.802987</td>\n",
              "      <td>0.0</td>\n",
              "      <td>10.0</td>\n",
              "      <td>-0.197013</td>\n",
              "      <td>-0.461350</td>\n",
              "    </tr>\n",
              "    <tr>\n",
              "      <th>29602</th>\n",
              "      <td>GIFGGIAKGVKNAIKKLGKKIGGKIGKGIGKIIIGKATKGAHGKKV...</td>\n",
              "      <td>live_buffer</td>\n",
              "      <td>9.802441</td>\n",
              "      <td>9.802441</td>\n",
              "      <td>0.0</td>\n",
              "      <td>10.0</td>\n",
              "      <td>-0.197559</td>\n",
              "      <td>-0.438858</td>\n",
              "    </tr>\n",
              "    <tr>\n",
              "      <th>30374</th>\n",
              "      <td>GLIGALKKAAKKIGKKVGKKIGGKIVKGGMIKKGGKGIIGDKTIGG...</td>\n",
              "      <td>live_buffer</td>\n",
              "      <td>9.820191</td>\n",
              "      <td>9.820191</td>\n",
              "      <td>0.0</td>\n",
              "      <td>10.0</td>\n",
              "      <td>-0.179809</td>\n",
              "      <td>-0.489034</td>\n",
              "    </tr>\n",
              "    <tr>\n",
              "      <th>30917</th>\n",
              "      <td>GIAGAIGKAGIKAIKKGRKIVGKGIGKILIKKVGKGIGNKIKVINP...</td>\n",
              "      <td>live_buffer</td>\n",
              "      <td>9.805631</td>\n",
              "      <td>9.805631</td>\n",
              "      <td>0.0</td>\n",
              "      <td>10.0</td>\n",
              "      <td>-0.194369</td>\n",
              "      <td>-0.387992</td>\n",
              "    </tr>\n",
              "    <tr>\n",
              "      <th>31535</th>\n",
              "      <td>GILGKVGKKIGKGVTKIVGKIGKIKIGGKITNHVIGVIKKVGKSYI...</td>\n",
              "      <td>base_buffer</td>\n",
              "      <td>9.801026</td>\n",
              "      <td>9.801026</td>\n",
              "      <td>0.0</td>\n",
              "      <td>10.0</td>\n",
              "      <td>-0.198973</td>\n",
              "      <td>-0.457702</td>\n",
              "    </tr>\n",
              "    <tr>\n",
              "      <th>32550</th>\n",
              "      <td>GILGGIVKKLAGKIAKGIGKIVKGLGKKIGKGAGVTGKILGEKLGK...</td>\n",
              "      <td>base_buffer</td>\n",
              "      <td>9.804182</td>\n",
              "      <td>9.804182</td>\n",
              "      <td>0.0</td>\n",
              "      <td>10.0</td>\n",
              "      <td>-0.195818</td>\n",
              "      <td>-0.310737</td>\n",
              "    </tr>\n",
              "    <tr>\n",
              "      <th>32688</th>\n",
              "      <td>GVLAALGKAIGKAVKGAGVKAIKGLKVKTIGKIGTIIGKIAGKVIL...</td>\n",
              "      <td>live_buffer</td>\n",
              "      <td>9.810798</td>\n",
              "      <td>9.810798</td>\n",
              "      <td>0.0</td>\n",
              "      <td>10.0</td>\n",
              "      <td>-0.189203</td>\n",
              "      <td>-0.362843</td>\n",
              "    </tr>\n",
              "  </tbody>\n",
              "</table>\n",
              "</div>"
            ],
            "text/plain": [
              "                                                 samples      sources  \\\n",
              "24119  GFLIGLAAEGIKKIGGKIGKIIGKIIKKVGKNIGDTVEKIGKNAGK...  base_buffer   \n",
              "24514  GIPGAIGKAIKGGLGKVLKGCGVKGAKIIGGGRKVGINGKVVKKVV...  base_buffer   \n",
              "29395  GLLGLFGKAIKDIGVKVIGKAIKNIGIKGIDKIMKGIIGKKKIPNV...  live_buffer   \n",
              "29602  GIFGGIAKGVKNAIKKLGKKIGGKIGKGIGKIIIGKATKGAHGKKV...  live_buffer   \n",
              "30374  GLIGALKKAAKKIGKKVGKKIGGKIVKGGMIKKGGKGIIGDKTIGG...  live_buffer   \n",
              "30917  GIAGAIGKAGIKAIKKGRKIVGKGIGKILIKKVGKGIGNKIKVINP...  live_buffer   \n",
              "31535  GILGKVGKKIGKGVTKIVGKIGKIKIGGKITNHVIGVIKKVGKSYI...  base_buffer   \n",
              "32550  GILGGIVKKLAGKIAKGIGKIVKGLGKKIGKGAGVTGKILGEKLGK...  base_buffer   \n",
              "32688  GVLAALGKAIGKAVKGAGVKAIKGLKVKTIGKIGTIIGKIAGKVIL...  live_buffer   \n",
              "\n",
              "        rewards  rewards_final  template   amp  stability       PPO  \n",
              "24119  9.800656       9.800656       0.0  10.0  -0.199344 -0.473588  \n",
              "24514  9.800788       9.800788       0.0  10.0  -0.199212 -0.319604  \n",
              "29395  9.802987       9.802987       0.0  10.0  -0.197013 -0.461350  \n",
              "29602  9.802441       9.802441       0.0  10.0  -0.197559 -0.438858  \n",
              "30374  9.820191       9.820191       0.0  10.0  -0.179809 -0.489034  \n",
              "30917  9.805631       9.805631       0.0  10.0  -0.194369 -0.387992  \n",
              "31535  9.801026       9.801026       0.0  10.0  -0.198973 -0.457702  \n",
              "32550  9.804182       9.804182       0.0  10.0  -0.195818 -0.310737  \n",
              "32688  9.810798       9.810798       0.0  10.0  -0.189203 -0.362843  "
            ]
          },
          "execution_count": null,
          "metadata": {},
          "output_type": "execute_result"
        }
      ],
      "source": [
        "env.log.df[env.log.df.rewards>9.8]"
      ]
    },
    {
      "cell_type": "code",
      "execution_count": null,
      "metadata": {
        "id": "cW4f04Urw0gO",
        "outputId": "f843d1ae-61be-47d3-85b2-c83225428fd3"
      },
      "outputs": [
        {
          "data": {
            "image/png": "[encoded data removed]",
            "text/plain": [
              "<Figure size 864x576 with 4 Axes>"
            ]
          },
          "metadata": {
            "needs_background": "light"
          },
          "output_type": "display_data"
        }
      ],
      "source": [
        "aas = ['G', 'V', 'I', 'K']\n",
        "\n",
        "fig, axes = plt.subplots(2,2, figsize=(12,8))\n",
        "\n",
        "for i, ax in enumerate(axes.flat):\n",
        "    if i<len(aas):\n",
        "        env.log.df[env.log.df.rewards>9.].samples.map(\n",
        "            lambda x: x.count(aas[i])/len(x)).hist(density=True, alpha=0.5, label=f'Generated {aas[i]} Counts',\n",
        "                                                  ax=ax)\n",
        "        df[df.label==1].sequence.map(\n",
        "            lambda x: x.count(aas[i])/len(x)).hist(density=True, alpha=0.5, label=f'Dataset {aas[i]} Counts',\n",
        "                                                  ax=ax)\n",
        "        ax.legend()\n",
        "    else:\n",
        "        ax.axis('off')"
      ]
    },
    {
      "cell_type": "code",
      "execution_count": null,
      "metadata": {
        "id": "PmVazj6Sw0gO"
      },
      "outputs": [],
      "source": []
    }
  ],
  "metadata": {
    "kernelspec": {
      "display_name": "Python 3",
      "language": "python",
      "name": "python3"
    },
    "colab": {
      "provenance": [],
      "include_colab_link": true
    }
  },
  "nbformat": 4,
  "nbformat_minor": 0
}